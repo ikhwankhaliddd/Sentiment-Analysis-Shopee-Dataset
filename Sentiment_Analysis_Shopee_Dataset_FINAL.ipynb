{
  "nbformat": 4,
  "nbformat_minor": 0,
  "metadata": {
    "colab": {
      "name": "Sentiment Analysis Shopee Dataset.ipynb",
      "provenance": []
    },
    "kernelspec": {
      "name": "python3",
      "display_name": "Python 3"
    },
    "language_info": {
      "name": "python"
    }
  },
  "cells": [
    {
      "cell_type": "markdown",
      "metadata": {
        "id": "1nOSNbJ7zz6O"
      },
      "source": [
        "# **1. Exploratory Data Analysis**"
      ]
    },
    {
      "cell_type": "code",
      "metadata": {
        "id": "U9RHM0iiNKVd"
      },
      "source": [
        "#Import data training\n",
        "import pandas as pd\n",
        "\n",
        "df_train = pd.read_csv('train.csv')"
      ],
      "execution_count": 1,
      "outputs": []
    },
    {
      "cell_type": "code",
      "metadata": {
        "colab": {
          "base_uri": "https://localhost:8080/",
          "height": 195
        },
        "id": "V5j8y52aOG79",
        "outputId": "7978487b-5bdc-4740-8e64-cb0e9f790d61"
      },
      "source": [
        "#nampilin 5 data teratas\n",
        "df_train.head()"
      ],
      "execution_count": 3,
      "outputs": [
        {
          "output_type": "execute_result",
          "data": {
            "text/html": [
              "<div>\n",
              "<style scoped>\n",
              "    .dataframe tbody tr th:only-of-type {\n",
              "        vertical-align: middle;\n",
              "    }\n",
              "\n",
              "    .dataframe tbody tr th {\n",
              "        vertical-align: top;\n",
              "    }\n",
              "\n",
              "    .dataframe thead th {\n",
              "        text-align: right;\n",
              "    }\n",
              "</style>\n",
              "<table border=\"1\" class=\"dataframe\">\n",
              "  <thead>\n",
              "    <tr style=\"text-align: right;\">\n",
              "      <th></th>\n",
              "      <th>review_id</th>\n",
              "      <th>review</th>\n",
              "      <th>rating</th>\n",
              "    </tr>\n",
              "  </thead>\n",
              "  <tbody>\n",
              "    <tr>\n",
              "      <th>0</th>\n",
              "      <td>0</td>\n",
              "      <td>Ga disappointed neat products .. Meletot Hilsn...</td>\n",
              "      <td>1</td>\n",
              "    </tr>\n",
              "    <tr>\n",
              "      <th>1</th>\n",
              "      <td>1</td>\n",
              "      <td>Rdtanya replace broken glass, broken chargernya</td>\n",
              "      <td>1</td>\n",
              "    </tr>\n",
              "    <tr>\n",
              "      <th>2</th>\n",
              "      <td>2</td>\n",
              "      <td>Nyesel bngt dsni shopping antecedent photo mes...</td>\n",
              "      <td>1</td>\n",
              "    </tr>\n",
              "    <tr>\n",
              "      <th>3</th>\n",
              "      <td>3</td>\n",
              "      <td>Sent a light blue suit goods ga want a refund</td>\n",
              "      <td>1</td>\n",
              "    </tr>\n",
              "    <tr>\n",
              "      <th>4</th>\n",
              "      <td>4</td>\n",
              "      <td>Pendants came with dents and scratches on its ...</td>\n",
              "      <td>1</td>\n",
              "    </tr>\n",
              "  </tbody>\n",
              "</table>\n",
              "</div>"
            ],
            "text/plain": [
              "   review_id                                             review  rating\n",
              "0          0  Ga disappointed neat products .. Meletot Hilsn...       1\n",
              "1          1    Rdtanya replace broken glass, broken chargernya       1\n",
              "2          2  Nyesel bngt dsni shopping antecedent photo mes...       1\n",
              "3          3      Sent a light blue suit goods ga want a refund       1\n",
              "4          4  Pendants came with dents and scratches on its ...       1"
            ]
          },
          "metadata": {
            "tags": []
          },
          "execution_count": 3
        }
      ]
    },
    {
      "cell_type": "code",
      "metadata": {
        "colab": {
          "base_uri": "https://localhost:8080/",
          "height": 195
        },
        "id": "VCQwyNFDOMQr",
        "outputId": "84053344-4198-4f2b-94e9-e9a41ded8b13"
      },
      "source": [
        "#nampilin 5 data terbawah\n",
        "df_train.tail()"
      ],
      "execution_count": 4,
      "outputs": [
        {
          "output_type": "execute_result",
          "data": {
            "text/html": [
              "<div>\n",
              "<style scoped>\n",
              "    .dataframe tbody tr th:only-of-type {\n",
              "        vertical-align: middle;\n",
              "    }\n",
              "\n",
              "    .dataframe tbody tr th {\n",
              "        vertical-align: top;\n",
              "    }\n",
              "\n",
              "    .dataframe thead th {\n",
              "        text-align: right;\n",
              "    }\n",
              "</style>\n",
              "<table border=\"1\" class=\"dataframe\">\n",
              "  <thead>\n",
              "    <tr style=\"text-align: right;\">\n",
              "      <th></th>\n",
              "      <th>review_id</th>\n",
              "      <th>review</th>\n",
              "      <th>rating</th>\n",
              "    </tr>\n",
              "  </thead>\n",
              "  <tbody>\n",
              "    <tr>\n",
              "      <th>146806</th>\n",
              "      <td>146806</td>\n",
              "      <td>Excellent product quality delivery speed is ve...</td>\n",
              "      <td>5</td>\n",
              "    </tr>\n",
              "    <tr>\n",
              "      <th>146807</th>\n",
              "      <td>146807</td>\n",
              "      <td>thanks gan</td>\n",
              "      <td>5</td>\n",
              "    </tr>\n",
              "    <tr>\n",
              "      <th>146808</th>\n",
              "      <td>146808</td>\n",
              "      <td>Awesome awesome quality merchandise value CP ...</td>\n",
              "      <td>5</td>\n",
              "    </tr>\n",
              "    <tr>\n",
              "      <th>146809</th>\n",
              "      <td>146809</td>\n",
              "      <td>Nice Packing boxes made effective price .........</td>\n",
              "      <td>5</td>\n",
              "    </tr>\n",
              "    <tr>\n",
              "      <th>146810</th>\n",
              "      <td>146810</td>\n",
              "      <td>Excellent product quality excellent product p...</td>\n",
              "      <td>5</td>\n",
              "    </tr>\n",
              "  </tbody>\n",
              "</table>\n",
              "</div>"
            ],
            "text/plain": [
              "        review_id                                             review  rating\n",
              "146806     146806  Excellent product quality delivery speed is ve...       5\n",
              "146807     146807                                         thanks gan       5\n",
              "146808     146808   Awesome awesome quality merchandise value CP ...       5\n",
              "146809     146809  Nice Packing boxes made effective price .........       5\n",
              "146810     146810   Excellent product quality excellent product p...       5"
            ]
          },
          "metadata": {
            "tags": []
          },
          "execution_count": 4
        }
      ]
    },
    {
      "cell_type": "code",
      "metadata": {
        "colab": {
          "base_uri": "https://localhost:8080/"
        },
        "id": "QusHmjYgOOWD",
        "outputId": "dc4955a5-f1f6-4838-9297-db81a09fad03"
      },
      "source": [
        "#menampilkan berapa banyak jumlah labels di dataset \n",
        "df_train['rating'].value_counts()"
      ],
      "execution_count": 5,
      "outputs": [
        {
          "output_type": "execute_result",
          "data": {
            "text/plain": [
              "4    41865\n",
              "5    41515\n",
              "3    35941\n",
              "1    14785\n",
              "2    12705\n",
              "Name: rating, dtype: int64"
            ]
          },
          "metadata": {
            "tags": []
          },
          "execution_count": 5
        }
      ]
    },
    {
      "cell_type": "code",
      "metadata": {
        "colab": {
          "base_uri": "https://localhost:8080/",
          "height": 402
        },
        "id": "DTjoiBLSOUXS",
        "outputId": "cdbaac82-7a1e-4cdd-8b49-5ff76049381b"
      },
      "source": [
        "#Mengubah value dari label. contoh 5 menjadi 4, 4 menjadi 3, dst.\n",
        "labels = []\n",
        "\n",
        "for index, row in df_train.iterrows():\n",
        "  if row['rating'] == 5:\n",
        "    labels.append(4)\n",
        "  elif row['rating'] == 4 :\n",
        "    labels.append(3)\n",
        "  elif row['rating'] == 3:\n",
        "    labels.append(2)\n",
        "  elif row['rating'] == 2:\n",
        "    labels.append(1)\n",
        "  else :\n",
        "    labels.append(0)\n",
        "\n",
        "df_train['labels'] = labels\n",
        "#menghapus kolom 'rating' karena akan digantikan dengan kolom 'labels'\n",
        "df_train = df_train.drop(columns = 'rating')\n",
        "df_train"
      ],
      "execution_count": 6,
      "outputs": [
        {
          "output_type": "execute_result",
          "data": {
            "text/html": [
              "<div>\n",
              "<style scoped>\n",
              "    .dataframe tbody tr th:only-of-type {\n",
              "        vertical-align: middle;\n",
              "    }\n",
              "\n",
              "    .dataframe tbody tr th {\n",
              "        vertical-align: top;\n",
              "    }\n",
              "\n",
              "    .dataframe thead th {\n",
              "        text-align: right;\n",
              "    }\n",
              "</style>\n",
              "<table border=\"1\" class=\"dataframe\">\n",
              "  <thead>\n",
              "    <tr style=\"text-align: right;\">\n",
              "      <th></th>\n",
              "      <th>review_id</th>\n",
              "      <th>review</th>\n",
              "      <th>labels</th>\n",
              "    </tr>\n",
              "  </thead>\n",
              "  <tbody>\n",
              "    <tr>\n",
              "      <th>0</th>\n",
              "      <td>0</td>\n",
              "      <td>Ga disappointed neat products .. Meletot Hilsn...</td>\n",
              "      <td>0</td>\n",
              "    </tr>\n",
              "    <tr>\n",
              "      <th>1</th>\n",
              "      <td>1</td>\n",
              "      <td>Rdtanya replace broken glass, broken chargernya</td>\n",
              "      <td>0</td>\n",
              "    </tr>\n",
              "    <tr>\n",
              "      <th>2</th>\n",
              "      <td>2</td>\n",
              "      <td>Nyesel bngt dsni shopping antecedent photo mes...</td>\n",
              "      <td>0</td>\n",
              "    </tr>\n",
              "    <tr>\n",
              "      <th>3</th>\n",
              "      <td>3</td>\n",
              "      <td>Sent a light blue suit goods ga want a refund</td>\n",
              "      <td>0</td>\n",
              "    </tr>\n",
              "    <tr>\n",
              "      <th>4</th>\n",
              "      <td>4</td>\n",
              "      <td>Pendants came with dents and scratches on its ...</td>\n",
              "      <td>0</td>\n",
              "    </tr>\n",
              "    <tr>\n",
              "      <th>...</th>\n",
              "      <td>...</td>\n",
              "      <td>...</td>\n",
              "      <td>...</td>\n",
              "    </tr>\n",
              "    <tr>\n",
              "      <th>146806</th>\n",
              "      <td>146806</td>\n",
              "      <td>Excellent product quality delivery speed is ve...</td>\n",
              "      <td>4</td>\n",
              "    </tr>\n",
              "    <tr>\n",
              "      <th>146807</th>\n",
              "      <td>146807</td>\n",
              "      <td>thanks gan</td>\n",
              "      <td>4</td>\n",
              "    </tr>\n",
              "    <tr>\n",
              "      <th>146808</th>\n",
              "      <td>146808</td>\n",
              "      <td>Awesome awesome quality merchandise value CP ...</td>\n",
              "      <td>4</td>\n",
              "    </tr>\n",
              "    <tr>\n",
              "      <th>146809</th>\n",
              "      <td>146809</td>\n",
              "      <td>Nice Packing boxes made effective price .........</td>\n",
              "      <td>4</td>\n",
              "    </tr>\n",
              "    <tr>\n",
              "      <th>146810</th>\n",
              "      <td>146810</td>\n",
              "      <td>Excellent product quality excellent product p...</td>\n",
              "      <td>4</td>\n",
              "    </tr>\n",
              "  </tbody>\n",
              "</table>\n",
              "<p>146811 rows × 3 columns</p>\n",
              "</div>"
            ],
            "text/plain": [
              "        review_id                                             review  labels\n",
              "0               0  Ga disappointed neat products .. Meletot Hilsn...       0\n",
              "1               1    Rdtanya replace broken glass, broken chargernya       0\n",
              "2               2  Nyesel bngt dsni shopping antecedent photo mes...       0\n",
              "3               3      Sent a light blue suit goods ga want a refund       0\n",
              "4               4  Pendants came with dents and scratches on its ...       0\n",
              "...           ...                                                ...     ...\n",
              "146806     146806  Excellent product quality delivery speed is ve...       4\n",
              "146807     146807                                         thanks gan       4\n",
              "146808     146808   Awesome awesome quality merchandise value CP ...       4\n",
              "146809     146809  Nice Packing boxes made effective price .........       4\n",
              "146810     146810   Excellent product quality excellent product p...       4\n",
              "\n",
              "[146811 rows x 3 columns]"
            ]
          },
          "metadata": {
            "tags": []
          },
          "execution_count": 6
        }
      ]
    },
    {
      "cell_type": "code",
      "metadata": {
        "colab": {
          "base_uri": "https://localhost:8080/"
        },
        "id": "LfRWdE2wQlU-",
        "outputId": "00030a2f-4c49-4b8f-9102-822ff7dbdd5d"
      },
      "source": [
        "#menampilkan berapa banyak jumlah labels di dataset \n",
        "df_train['labels'].value_counts()"
      ],
      "execution_count": 7,
      "outputs": [
        {
          "output_type": "execute_result",
          "data": {
            "text/plain": [
              "3    41865\n",
              "4    41515\n",
              "2    35941\n",
              "0    14785\n",
              "1    12705\n",
              "Name: labels, dtype: int64"
            ]
          },
          "metadata": {
            "tags": []
          },
          "execution_count": 7
        }
      ]
    },
    {
      "cell_type": "code",
      "metadata": {
        "colab": {
          "base_uri": "https://localhost:8080/",
          "height": 402
        },
        "id": "psOFqbTeRKhi",
        "outputId": "342be953-6fd5-4fcf-97b8-86d1a8dbde50"
      },
      "source": [
        "#copy isi df_train ke df_train_preprocessed\n",
        "df_train_preprocessed = df_train.copy()\n",
        "#hapus kolom 'review_id' pada df_train_preprocessed karena kolom ini tidak digunakan untuk training model\n",
        "df_train_preprocessed = df_train.drop(columns = 'review_id')\n",
        "df_train_preprocessed"
      ],
      "execution_count": 8,
      "outputs": [
        {
          "output_type": "execute_result",
          "data": {
            "text/html": [
              "<div>\n",
              "<style scoped>\n",
              "    .dataframe tbody tr th:only-of-type {\n",
              "        vertical-align: middle;\n",
              "    }\n",
              "\n",
              "    .dataframe tbody tr th {\n",
              "        vertical-align: top;\n",
              "    }\n",
              "\n",
              "    .dataframe thead th {\n",
              "        text-align: right;\n",
              "    }\n",
              "</style>\n",
              "<table border=\"1\" class=\"dataframe\">\n",
              "  <thead>\n",
              "    <tr style=\"text-align: right;\">\n",
              "      <th></th>\n",
              "      <th>review</th>\n",
              "      <th>labels</th>\n",
              "    </tr>\n",
              "  </thead>\n",
              "  <tbody>\n",
              "    <tr>\n",
              "      <th>0</th>\n",
              "      <td>Ga disappointed neat products .. Meletot Hilsn...</td>\n",
              "      <td>0</td>\n",
              "    </tr>\n",
              "    <tr>\n",
              "      <th>1</th>\n",
              "      <td>Rdtanya replace broken glass, broken chargernya</td>\n",
              "      <td>0</td>\n",
              "    </tr>\n",
              "    <tr>\n",
              "      <th>2</th>\n",
              "      <td>Nyesel bngt dsni shopping antecedent photo mes...</td>\n",
              "      <td>0</td>\n",
              "    </tr>\n",
              "    <tr>\n",
              "      <th>3</th>\n",
              "      <td>Sent a light blue suit goods ga want a refund</td>\n",
              "      <td>0</td>\n",
              "    </tr>\n",
              "    <tr>\n",
              "      <th>4</th>\n",
              "      <td>Pendants came with dents and scratches on its ...</td>\n",
              "      <td>0</td>\n",
              "    </tr>\n",
              "    <tr>\n",
              "      <th>...</th>\n",
              "      <td>...</td>\n",
              "      <td>...</td>\n",
              "    </tr>\n",
              "    <tr>\n",
              "      <th>146806</th>\n",
              "      <td>Excellent product quality delivery speed is ve...</td>\n",
              "      <td>4</td>\n",
              "    </tr>\n",
              "    <tr>\n",
              "      <th>146807</th>\n",
              "      <td>thanks gan</td>\n",
              "      <td>4</td>\n",
              "    </tr>\n",
              "    <tr>\n",
              "      <th>146808</th>\n",
              "      <td>Awesome awesome quality merchandise value CP ...</td>\n",
              "      <td>4</td>\n",
              "    </tr>\n",
              "    <tr>\n",
              "      <th>146809</th>\n",
              "      <td>Nice Packing boxes made effective price .........</td>\n",
              "      <td>4</td>\n",
              "    </tr>\n",
              "    <tr>\n",
              "      <th>146810</th>\n",
              "      <td>Excellent product quality excellent product p...</td>\n",
              "      <td>4</td>\n",
              "    </tr>\n",
              "  </tbody>\n",
              "</table>\n",
              "<p>146811 rows × 2 columns</p>\n",
              "</div>"
            ],
            "text/plain": [
              "                                                   review  labels\n",
              "0       Ga disappointed neat products .. Meletot Hilsn...       0\n",
              "1         Rdtanya replace broken glass, broken chargernya       0\n",
              "2       Nyesel bngt dsni shopping antecedent photo mes...       0\n",
              "3           Sent a light blue suit goods ga want a refund       0\n",
              "4       Pendants came with dents and scratches on its ...       0\n",
              "...                                                   ...     ...\n",
              "146806  Excellent product quality delivery speed is ve...       4\n",
              "146807                                         thanks gan       4\n",
              "146808   Awesome awesome quality merchandise value CP ...       4\n",
              "146809  Nice Packing boxes made effective price .........       4\n",
              "146810   Excellent product quality excellent product p...       4\n",
              "\n",
              "[146811 rows x 2 columns]"
            ]
          },
          "metadata": {
            "tags": []
          },
          "execution_count": 8
        }
      ]
    },
    {
      "cell_type": "code",
      "metadata": {
        "colab": {
          "base_uri": "https://localhost:8080/"
        },
        "id": "paXoji2KRiXL",
        "outputId": "cdcc2011-acb2-466e-8480-e9071c0e1747"
      },
      "source": [
        "#mengambil sampel data dari masing masing labels agar data yang kita miliki menjadi balance\n",
        "s_1 = df_train_preprocessed[df_train_preprocessed['labels']==4].sample(20000,replace = True)\n",
        "s_2 = df_train_preprocessed[df_train_preprocessed['labels']==3].sample(20000,replace = True)\n",
        "s_3 = df_train_preprocessed[df_train_preprocessed['labels']==2].sample(20000,replace = True)\n",
        "s_4 = df_train_preprocessed[df_train_preprocessed['labels']==1].sample(20000,replace = True)\n",
        "s_5 = df_train_preprocessed[df_train_preprocessed['labels']==0].sample(20000,replace = True)\n",
        "df_train_preprocessed = pd.concat([s_1,s_2,s_3,s_4,s_5])\n",
        "\n",
        "print(df_train_preprocessed.shape)\n",
        "print(df_train_preprocessed['labels'].value_counts(normalize = True))"
      ],
      "execution_count": 9,
      "outputs": [
        {
          "output_type": "stream",
          "text": [
            "(100000, 2)\n",
            "4    0.2\n",
            "3    0.2\n",
            "2    0.2\n",
            "1    0.2\n",
            "0    0.2\n",
            "Name: labels, dtype: float64\n"
          ],
          "name": "stdout"
        }
      ]
    },
    {
      "cell_type": "code",
      "metadata": {
        "id": "auyH0UbjTJKO"
      },
      "source": [
        "#Function untuk Cleansing Data\n",
        "import string, re\n",
        "\n",
        "def cleansing(data):\n",
        "  #lower text\n",
        "  data = data.lower()\n",
        "\n",
        "  #hapus tanda baca\n",
        "  remove = string.punctuation\n",
        "  translator = str.maketrans(remove, ' '*len(remove))\n",
        "  data = data.translate(translator)\n",
        "\n",
        "  #hapus ASCII dan UNICODE\n",
        "  data = data.encode('ascii', 'ignore').decode('utf-8')\n",
        "  data = re.sub(r'[^\\x00-\\x7f]','r',data)\n",
        "\n",
        "  #remove newline\n",
        "  data = data.replace('\\n', ' ')\n",
        "\n",
        "  return data"
      ],
      "execution_count": 46,
      "outputs": []
    },
    {
      "cell_type": "code",
      "metadata": {
        "colab": {
          "base_uri": "https://localhost:8080/",
          "height": 195
        },
        "id": "oy_eQMeKUk6l",
        "outputId": "8e633008-6e02-4061-d6d3-0a05dfc4572d"
      },
      "source": [
        "#Aplikasikan Function cleansing ke dataset kita\n",
        "reviews = []\n",
        "\n",
        "for index,row in df_train_preprocessed.iterrows():\n",
        "  reviews.append(cleansing(row['review']))\n",
        "\n",
        "df_train_preprocessed['review'] = reviews\n",
        "df_train_preprocessed.head()"
      ],
      "execution_count": 13,
      "outputs": [
        {
          "output_type": "execute_result",
          "data": {
            "text/html": [
              "<div>\n",
              "<style scoped>\n",
              "    .dataframe tbody tr th:only-of-type {\n",
              "        vertical-align: middle;\n",
              "    }\n",
              "\n",
              "    .dataframe tbody tr th {\n",
              "        vertical-align: top;\n",
              "    }\n",
              "\n",
              "    .dataframe thead th {\n",
              "        text-align: right;\n",
              "    }\n",
              "</style>\n",
              "<table border=\"1\" class=\"dataframe\">\n",
              "  <thead>\n",
              "    <tr style=\"text-align: right;\">\n",
              "      <th></th>\n",
              "      <th>review</th>\n",
              "      <th>labels</th>\n",
              "    </tr>\n",
              "  </thead>\n",
              "  <tbody>\n",
              "    <tr>\n",
              "      <th>140939</th>\n",
              "      <td>long delivery  take 22 days but were very dep ...</td>\n",
              "      <td>4</td>\n",
              "    </tr>\n",
              "    <tr>\n",
              "      <th>136794</th>\n",
              "      <td>fast delivery</td>\n",
              "      <td>4</td>\n",
              "    </tr>\n",
              "    <tr>\n",
              "      <th>107828</th>\n",
              "      <td>awesome awesome speed of the ship s delivery ...</td>\n",
              "      <td>4</td>\n",
              "    </tr>\n",
              "    <tr>\n",
              "      <th>128166</th>\n",
              "      <td>product quality is very good speed of deliver...</td>\n",
              "      <td>4</td>\n",
              "    </tr>\n",
              "    <tr>\n",
              "      <th>138711</th>\n",
              "      <td>okeee bag     more gedeeee hasiilnya         p...</td>\n",
              "      <td>4</td>\n",
              "    </tr>\n",
              "  </tbody>\n",
              "</table>\n",
              "</div>"
            ],
            "text/plain": [
              "                                                   review  labels\n",
              "140939  long delivery  take 22 days but were very dep ...       4\n",
              "136794                                      fast delivery       4\n",
              "107828   awesome awesome speed of the ship s delivery ...       4\n",
              "128166   product quality is very good speed of deliver...       4\n",
              "138711  okeee bag     more gedeeee hasiilnya         p...       4"
            ]
          },
          "metadata": {
            "tags": []
          },
          "execution_count": 13
        }
      ]
    },
    {
      "cell_type": "markdown",
      "metadata": {
        "id": "p4tbQwlZf1WL"
      },
      "source": [
        "# **2. Text Preprocessing**"
      ]
    },
    {
      "cell_type": "code",
      "metadata": {
        "colab": {
          "base_uri": "https://localhost:8080/"
        },
        "id": "6R2H3EvIVDkU",
        "outputId": "7b9dbc38-47ce-4f31-fb5d-48787a65bea0"
      },
      "source": [
        "#install library Sastrawi\n",
        "!pip install Sastrawi"
      ],
      "execution_count": 14,
      "outputs": [
        {
          "output_type": "stream",
          "text": [
            "Collecting Sastrawi\n",
            "\u001b[?25l  Downloading https://files.pythonhosted.org/packages/6f/4b/bab676953da3103003730b8fcdfadbdd20f333d4add10af949dd5c51e6ed/Sastrawi-1.0.1-py2.py3-none-any.whl (209kB)\n",
            "\u001b[K     |████████████████████████████████| 215kB 2.8MB/s \n",
            "\u001b[?25hInstalling collected packages: Sastrawi\n",
            "Successfully installed Sastrawi-1.0.1\n"
          ],
          "name": "stdout"
        }
      ]
    },
    {
      "cell_type": "code",
      "metadata": {
        "colab": {
          "base_uri": "https://localhost:8080/"
        },
        "id": "2Z9-E1O-VkGU",
        "outputId": "10511984-5f1c-4300-a707-acae2c19e890"
      },
      "source": [
        "#import library\n",
        "from Sastrawi.StopWordRemover.StopWordRemoverFactory import StopWordRemoverFactory\n",
        "\n",
        "factory = StopWordRemoverFactory()\n",
        "stopword = factory.create_stop_word_remover()\n",
        "\n",
        "#contoh\n",
        "kalimat = 'saya mencoba dengan library sastrawi pada project kali ini'\n",
        "stop = stopword.remove(kalimat)\n",
        "print(stop)"
      ],
      "execution_count": 15,
      "outputs": [
        {
          "output_type": "stream",
          "text": [
            "mencoba library sastrawi project kali\n"
          ],
          "name": "stdout"
        }
      ]
    },
    {
      "cell_type": "code",
      "metadata": {
        "colab": {
          "base_uri": "https://localhost:8080/",
          "height": 195
        },
        "id": "_hOQ5veKWBd0",
        "outputId": "09a7f941-9238-4372-bf01-38b2a4a7bab9"
      },
      "source": [
        "#aplikasikan pada dataset kita\n",
        "reviews = []\n",
        "\n",
        "for index,row in df_train_preprocessed.iterrows():\n",
        "  reviews.append(stopword.remove(row['review']))\n",
        "\n",
        "df_train_preprocessed['review'] = reviews\n",
        "df_train_preprocessed.head()"
      ],
      "execution_count": 16,
      "outputs": [
        {
          "output_type": "execute_result",
          "data": {
            "text/html": [
              "<div>\n",
              "<style scoped>\n",
              "    .dataframe tbody tr th:only-of-type {\n",
              "        vertical-align: middle;\n",
              "    }\n",
              "\n",
              "    .dataframe tbody tr th {\n",
              "        vertical-align: top;\n",
              "    }\n",
              "\n",
              "    .dataframe thead th {\n",
              "        text-align: right;\n",
              "    }\n",
              "</style>\n",
              "<table border=\"1\" class=\"dataframe\">\n",
              "  <thead>\n",
              "    <tr style=\"text-align: right;\">\n",
              "      <th></th>\n",
              "      <th>review</th>\n",
              "      <th>labels</th>\n",
              "    </tr>\n",
              "  </thead>\n",
              "  <tbody>\n",
              "    <tr>\n",
              "      <th>140939</th>\n",
              "      <td>long delivery  take 22 days but were very dep ...</td>\n",
              "      <td>4</td>\n",
              "    </tr>\n",
              "    <tr>\n",
              "      <th>136794</th>\n",
              "      <td>fast delivery</td>\n",
              "      <td>4</td>\n",
              "    </tr>\n",
              "    <tr>\n",
              "      <th>107828</th>\n",
              "      <td>awesome awesome speed of the ship s delivery ...</td>\n",
              "      <td>4</td>\n",
              "    </tr>\n",
              "    <tr>\n",
              "      <th>128166</th>\n",
              "      <td>product quality is very good speed of deliver...</td>\n",
              "      <td>4</td>\n",
              "    </tr>\n",
              "    <tr>\n",
              "      <th>138711</th>\n",
              "      <td>okeee bag     more gedeeee hasiilnya         p...</td>\n",
              "      <td>4</td>\n",
              "    </tr>\n",
              "  </tbody>\n",
              "</table>\n",
              "</div>"
            ],
            "text/plain": [
              "                                                   review  labels\n",
              "140939  long delivery  take 22 days but were very dep ...       4\n",
              "136794                                      fast delivery       4\n",
              "107828   awesome awesome speed of the ship s delivery ...       4\n",
              "128166   product quality is very good speed of deliver...       4\n",
              "138711  okeee bag     more gedeeee hasiilnya         p...       4"
            ]
          },
          "metadata": {
            "tags": []
          },
          "execution_count": 16
        }
      ]
    },
    {
      "cell_type": "code",
      "metadata": {
        "colab": {
          "base_uri": "https://localhost:8080/"
        },
        "id": "lP84nieOWe1M",
        "outputId": "46f9a52b-d8d1-4bd7-e34a-c5cf833ec2df"
      },
      "source": [
        "#Stemming\n",
        "from Sastrawi.Stemmer.StemmerFactory import StemmerFactory\n",
        "factory = StemmerFactory()\n",
        "stemmer = factory.create_stemmer()\n",
        "\n",
        "#contoh\n",
        "kalimat = 'barangnya bagus banget kak, aku suka. pengirimannya juga cepet'\n",
        "katadasar = stemmer.stem(kalimat)\n",
        "\n",
        "print(katadasar)"
      ],
      "execution_count": 17,
      "outputs": [
        {
          "output_type": "stream",
          "text": [
            "barang bagus banget kak aku suka kirim juga cepet\n"
          ],
          "name": "stdout"
        }
      ]
    },
    {
      "cell_type": "code",
      "metadata": {
        "colab": {
          "base_uri": "https://localhost:8080/",
          "height": 195
        },
        "id": "QtLr5j13W-c8",
        "outputId": "56604336-19e5-4d7f-c638-80754dd1958e"
      },
      "source": [
        "#aplikasikan ke dataset kita\n",
        "\n",
        "reviews = []\n",
        "for index,row in df_train_preprocessed.iterrows():\n",
        "  reviews.append(stemmer.stem(row['review']))\n",
        "\n",
        "df_train_preprocessed['review'] = reviews\n",
        "df_train_preprocessed.head()"
      ],
      "execution_count": 18,
      "outputs": [
        {
          "output_type": "execute_result",
          "data": {
            "text/html": [
              "<div>\n",
              "<style scoped>\n",
              "    .dataframe tbody tr th:only-of-type {\n",
              "        vertical-align: middle;\n",
              "    }\n",
              "\n",
              "    .dataframe tbody tr th {\n",
              "        vertical-align: top;\n",
              "    }\n",
              "\n",
              "    .dataframe thead th {\n",
              "        text-align: right;\n",
              "    }\n",
              "</style>\n",
              "<table border=\"1\" class=\"dataframe\">\n",
              "  <thead>\n",
              "    <tr style=\"text-align: right;\">\n",
              "      <th></th>\n",
              "      <th>review</th>\n",
              "      <th>labels</th>\n",
              "    </tr>\n",
              "  </thead>\n",
              "  <tbody>\n",
              "    <tr>\n",
              "      <th>140939</th>\n",
              "      <td>long delivery take 22 days but were very dep w...</td>\n",
              "      <td>4</td>\n",
              "    </tr>\n",
              "    <tr>\n",
              "      <th>136794</th>\n",
              "      <td>fast delivery</td>\n",
              "      <td>4</td>\n",
              "    </tr>\n",
              "    <tr>\n",
              "      <th>107828</th>\n",
              "      <td>awesome awesome speed of the ship s delivery s...</td>\n",
              "      <td>4</td>\n",
              "    </tr>\n",
              "    <tr>\n",
              "      <th>128166</th>\n",
              "      <td>product quality is very good speed of delivery...</td>\n",
              "      <td>4</td>\n",
              "    </tr>\n",
              "    <tr>\n",
              "      <th>138711</th>\n",
              "      <td>okeee bag more gedeeee hasiilnya paking rapiii...</td>\n",
              "      <td>4</td>\n",
              "    </tr>\n",
              "  </tbody>\n",
              "</table>\n",
              "</div>"
            ],
            "text/plain": [
              "                                                   review  labels\n",
              "140939  long delivery take 22 days but were very dep w...       4\n",
              "136794                                      fast delivery       4\n",
              "107828  awesome awesome speed of the ship s delivery s...       4\n",
              "128166  product quality is very good speed of delivery...       4\n",
              "138711  okeee bag more gedeeee hasiilnya paking rapiii...       4"
            ]
          },
          "metadata": {
            "tags": []
          },
          "execution_count": 18
        }
      ]
    },
    {
      "cell_type": "code",
      "metadata": {
        "id": "b_wf4-vlXYQk"
      },
      "source": [
        "#split training dataset menjadi 80 % training set dan 20 % test set\n",
        "from sklearn.model_selection import train_test_split\n",
        "\n",
        "X_train, X_test, y_train, y_test = train_test_split(df_train_preprocessed['review'], df_train_preprocessed['labels'], test_size = 0.2, stratify = df_train_preprocessed['labels'], random_state = 30)"
      ],
      "execution_count": 19,
      "outputs": []
    },
    {
      "cell_type": "code",
      "metadata": {
        "colab": {
          "base_uri": "https://localhost:8080/"
        },
        "id": "5YVCloEq2TD7",
        "outputId": "074030a0-b474-40b3-e7ad-5b11db0047fe"
      },
      "source": [
        "from sklearn.feature_extraction.text import TfidfVectorizer\n",
        "#from sklearn.feature_extraction.text import CountVectorizer\n",
        "\n",
        "corpus = [\n",
        "          'Barangnya ga berkualitas',\n",
        "          'Wah pengirimannya cepet banget'\n",
        "]\n",
        "\n",
        "#bow_transformer = CountVectorizer(analyzer = preprocess_data).fit(df_train_preprocessed['review'])\n",
        "\n",
        "vectorizer = TfidfVectorizer()\n",
        "\n",
        "\n",
        "#contoh\n",
        "X = vectorizer.fit_transform(corpus)\n",
        "X.toarray()"
      ],
      "execution_count": 20,
      "outputs": [
        {
          "output_type": "execute_result",
          "data": {
            "text/plain": [
              "array([[0.        , 0.57735027, 0.57735027, 0.        , 0.57735027,\n",
              "        0.        , 0.        ],\n",
              "       [0.5       , 0.        , 0.        , 0.5       , 0.        ,\n",
              "        0.5       , 0.5       ]])"
            ]
          },
          "metadata": {
            "tags": []
          },
          "execution_count": 20
        }
      ]
    },
    {
      "cell_type": "code",
      "metadata": {
        "colab": {
          "base_uri": "https://localhost:8080/"
        },
        "id": "WtZUrr4o2wq1",
        "outputId": "de6351ca-948e-4cef-960b-4f9591a81e6d"
      },
      "source": [
        "#implementasi ke dataset\n",
        "X_train = vectorizer.fit_transform(X_train)\n",
        "X_test = vectorizer.transform(X_test)\n",
        "\n",
        "print(X_train.shape)\n",
        "print(X_test.shape)"
      ],
      "execution_count": 21,
      "outputs": [
        {
          "output_type": "stream",
          "text": [
            "(80000, 34582)\n",
            "(20000, 34582)\n"
          ],
          "name": "stdout"
        }
      ]
    },
    {
      "cell_type": "code",
      "metadata": {
        "id": "e2430A343FVi"
      },
      "source": [
        "def preprocess_data(data):\n",
        "  #cleansing data\n",
        "  data = cleansing(data)\n",
        "\n",
        "  #hapus stopwords\n",
        "  factory = StopWordRemoverFactory()\n",
        "  stopword = factory.create_stop_word_remover()\n",
        "  data = stopword.remove(data)\n",
        "\n",
        "  #Stemming\n",
        "  factory = StemmerFactory()\n",
        "  stemmer = factory.create_stemmer()\n",
        "  data = stemmer.stem(data)\n",
        "\n",
        "  #count vectorizer\n",
        "  data = vectorizer.transform([data])\n",
        "\n",
        "  return data"
      ],
      "execution_count": 47,
      "outputs": []
    },
    {
      "cell_type": "markdown",
      "metadata": {
        "id": "BUV_x-AlgGgb"
      },
      "source": [
        "# **4. Modelling**"
      ]
    },
    {
      "cell_type": "code",
      "metadata": {
        "id": "Sm9e5CtgSXqw"
      },
      "source": [
        "#Kali ini kita menggunakan Algoritma Naive Bayes yaitu MultinomialNB karena data kita memiliki multi class\n",
        "from sklearn.naive_bayes import MultinomialNB"
      ],
      "execution_count": 23,
      "outputs": []
    },
    {
      "cell_type": "code",
      "metadata": {
        "colab": {
          "base_uri": "https://localhost:8080/"
        },
        "id": "cvkMA1uHSYEA",
        "outputId": "269317da-704d-417d-8bc2-6fb6e61ea30c"
      },
      "source": [
        "MNB = MultinomialNB()\n",
        "MNB.fit(X_train, y_train)"
      ],
      "execution_count": 24,
      "outputs": [
        {
          "output_type": "execute_result",
          "data": {
            "text/plain": [
              "MultinomialNB(alpha=1.0, class_prior=None, fit_prior=True)"
            ]
          },
          "metadata": {
            "tags": []
          },
          "execution_count": 24
        }
      ]
    },
    {
      "cell_type": "code",
      "metadata": {
        "id": "1Qu1oyNRWBsy"
      },
      "source": [
        "from sklearn import metrics\n",
        "predicted = MNB.predict(X_test)\n",
        "accuracy_score_mnb = metrics.accuracy_score(predicted, y_test)"
      ],
      "execution_count": 25,
      "outputs": []
    },
    {
      "cell_type": "code",
      "metadata": {
        "colab": {
          "base_uri": "https://localhost:8080/"
        },
        "id": "ytjLroEeWIGY",
        "outputId": "b34476e8-1e90-4cd0-eba3-cabfdc7bceaf"
      },
      "source": [
        "print('Accuracy Score MNB = ' +str('{:04.2f}'.format(accuracy_score_mnb*100))+ '%')"
      ],
      "execution_count": 26,
      "outputs": [
        {
          "output_type": "stream",
          "text": [
            "Accuracy Score MNB = 54.16%\n"
          ],
          "name": "stdout"
        }
      ]
    },
    {
      "cell_type": "markdown",
      "metadata": {
        "id": "Uy75i8I6gZGK"
      },
      "source": [
        "# **5. Prediction on Test Dataset**"
      ]
    },
    {
      "cell_type": "code",
      "metadata": {
        "colab": {
          "base_uri": "https://localhost:8080/",
          "height": 225
        },
        "id": "1DBkXDxBSZMj",
        "outputId": "01333814-1a18-446a-9234-082db906631a"
      },
      "source": [
        "#Read test dataset dan ubah kolom index menjadi 'review_id'\n",
        "df_test = pd.read_csv('test.csv', index_col = ['review_id'])\n",
        "#Ubah kolom 'review' menjadi 'messages'\n",
        "df_test = df_test.rename(columns = {'review' : 'messages'})\n",
        "#tampilkan 5 data pertama\n",
        "df_test.head()"
      ],
      "execution_count": 29,
      "outputs": [
        {
          "output_type": "execute_result",
          "data": {
            "text/html": [
              "<div>\n",
              "<style scoped>\n",
              "    .dataframe tbody tr th:only-of-type {\n",
              "        vertical-align: middle;\n",
              "    }\n",
              "\n",
              "    .dataframe tbody tr th {\n",
              "        vertical-align: top;\n",
              "    }\n",
              "\n",
              "    .dataframe thead th {\n",
              "        text-align: right;\n",
              "    }\n",
              "</style>\n",
              "<table border=\"1\" class=\"dataframe\">\n",
              "  <thead>\n",
              "    <tr style=\"text-align: right;\">\n",
              "      <th></th>\n",
              "      <th>messages</th>\n",
              "    </tr>\n",
              "    <tr>\n",
              "      <th>review_id</th>\n",
              "      <th></th>\n",
              "    </tr>\n",
              "  </thead>\n",
              "  <tbody>\n",
              "    <tr>\n",
              "      <th>1</th>\n",
              "      <td>Great danger, cool, motif and cantik2 jg model...</td>\n",
              "    </tr>\n",
              "    <tr>\n",
              "      <th>2</th>\n",
              "      <td>One of the shades don't fit well</td>\n",
              "    </tr>\n",
              "    <tr>\n",
              "      <th>3</th>\n",
              "      <td>Very comfortable</td>\n",
              "    </tr>\n",
              "    <tr>\n",
              "      <th>4</th>\n",
              "      <td>Fast delivery. Product expiry is on Dec 2022. ...</td>\n",
              "    </tr>\n",
              "    <tr>\n",
              "      <th>5</th>\n",
              "      <td>it's sooooo cute! i like playing with the glit...</td>\n",
              "    </tr>\n",
              "  </tbody>\n",
              "</table>\n",
              "</div>"
            ],
            "text/plain": [
              "                                                    messages\n",
              "review_id                                                   \n",
              "1          Great danger, cool, motif and cantik2 jg model...\n",
              "2                           One of the shades don't fit well\n",
              "3                                           Very comfortable\n",
              "4          Fast delivery. Product expiry is on Dec 2022. ...\n",
              "5          it's sooooo cute! i like playing with the glit..."
            ]
          },
          "metadata": {
            "tags": []
          },
          "execution_count": 29
        }
      ]
    },
    {
      "cell_type": "code",
      "metadata": {
        "colab": {
          "base_uri": "https://localhost:8080/",
          "height": 431
        },
        "id": "kszdOQn-dzpx",
        "outputId": "a6e17766-6a51-43d3-d848-99b5ccea7c6b"
      },
      "source": [
        "#Copy df_test ke variabel baru yaitu df_test_final\n",
        "df_test_final = df_test.copy()\n",
        "\n",
        "df_test_final"
      ],
      "execution_count": 32,
      "outputs": [
        {
          "output_type": "execute_result",
          "data": {
            "text/html": [
              "<div>\n",
              "<style scoped>\n",
              "    .dataframe tbody tr th:only-of-type {\n",
              "        vertical-align: middle;\n",
              "    }\n",
              "\n",
              "    .dataframe tbody tr th {\n",
              "        vertical-align: top;\n",
              "    }\n",
              "\n",
              "    .dataframe thead th {\n",
              "        text-align: right;\n",
              "    }\n",
              "</style>\n",
              "<table border=\"1\" class=\"dataframe\">\n",
              "  <thead>\n",
              "    <tr style=\"text-align: right;\">\n",
              "      <th></th>\n",
              "      <th>messages</th>\n",
              "    </tr>\n",
              "    <tr>\n",
              "      <th>review_id</th>\n",
              "      <th></th>\n",
              "    </tr>\n",
              "  </thead>\n",
              "  <tbody>\n",
              "    <tr>\n",
              "      <th>1</th>\n",
              "      <td>Great danger, cool, motif and cantik2 jg model...</td>\n",
              "    </tr>\n",
              "    <tr>\n",
              "      <th>2</th>\n",
              "      <td>One of the shades don't fit well</td>\n",
              "    </tr>\n",
              "    <tr>\n",
              "      <th>3</th>\n",
              "      <td>Very comfortable</td>\n",
              "    </tr>\n",
              "    <tr>\n",
              "      <th>4</th>\n",
              "      <td>Fast delivery. Product expiry is on Dec 2022. ...</td>\n",
              "    </tr>\n",
              "    <tr>\n",
              "      <th>5</th>\n",
              "      <td>it's sooooo cute! i like playing with the glit...</td>\n",
              "    </tr>\n",
              "    <tr>\n",
              "      <th>...</th>\n",
              "      <td>...</td>\n",
              "    </tr>\n",
              "    <tr>\n",
              "      <th>60423</th>\n",
              "      <td>Product has been succesfully ordered and shipp...</td>\n",
              "    </tr>\n",
              "    <tr>\n",
              "      <th>60424</th>\n",
              "      <td>Opening time a little scared. Fear dalemnya de...</td>\n",
              "    </tr>\n",
              "    <tr>\n",
              "      <th>60425</th>\n",
              "      <td>The product quality is excellent. The origina...</td>\n",
              "    </tr>\n",
              "    <tr>\n",
              "      <th>60426</th>\n",
              "      <td>They 're holding up REALLY well also .</td>\n",
              "    </tr>\n",
              "    <tr>\n",
              "      <th>60427</th>\n",
              "      <td>Rapid response and detail ...\\nThanks gan, the...</td>\n",
              "    </tr>\n",
              "  </tbody>\n",
              "</table>\n",
              "<p>60427 rows × 1 columns</p>\n",
              "</div>"
            ],
            "text/plain": [
              "                                                    messages\n",
              "review_id                                                   \n",
              "1          Great danger, cool, motif and cantik2 jg model...\n",
              "2                           One of the shades don't fit well\n",
              "3                                           Very comfortable\n",
              "4          Fast delivery. Product expiry is on Dec 2022. ...\n",
              "5          it's sooooo cute! i like playing with the glit...\n",
              "...                                                      ...\n",
              "60423      Product has been succesfully ordered and shipp...\n",
              "60424      Opening time a little scared. Fear dalemnya de...\n",
              "60425       The product quality is excellent. The origina...\n",
              "60426                 They 're holding up REALLY well also .\n",
              "60427      Rapid response and detail ...\\nThanks gan, the...\n",
              "\n",
              "[60427 rows x 1 columns]"
            ]
          },
          "metadata": {
            "tags": []
          },
          "execution_count": 32
        }
      ]
    },
    {
      "cell_type": "code",
      "metadata": {
        "colab": {
          "base_uri": "https://localhost:8080/",
          "height": 225
        },
        "id": "GMoyTn3DhH1A",
        "outputId": "8dd1b905-76fc-4f2f-cbc3-ceb62e29e513"
      },
      "source": [
        "#Masukkan seluruh isi kolom 'messages' di df_test_final ke array test_reviews\n",
        "test_reviews = []\n",
        "for index,row in df_test_final.iterrows():\n",
        "  test_reviews.append(row['messages'])\n",
        "\n",
        "df_test_final['messages'] = test_reviews\n",
        "df_test_final.head()"
      ],
      "execution_count": 35,
      "outputs": [
        {
          "output_type": "execute_result",
          "data": {
            "text/html": [
              "<div>\n",
              "<style scoped>\n",
              "    .dataframe tbody tr th:only-of-type {\n",
              "        vertical-align: middle;\n",
              "    }\n",
              "\n",
              "    .dataframe tbody tr th {\n",
              "        vertical-align: top;\n",
              "    }\n",
              "\n",
              "    .dataframe thead th {\n",
              "        text-align: right;\n",
              "    }\n",
              "</style>\n",
              "<table border=\"1\" class=\"dataframe\">\n",
              "  <thead>\n",
              "    <tr style=\"text-align: right;\">\n",
              "      <th></th>\n",
              "      <th>messages</th>\n",
              "    </tr>\n",
              "    <tr>\n",
              "      <th>review_id</th>\n",
              "      <th></th>\n",
              "    </tr>\n",
              "  </thead>\n",
              "  <tbody>\n",
              "    <tr>\n",
              "      <th>1</th>\n",
              "      <td>Great danger, cool, motif and cantik2 jg model...</td>\n",
              "    </tr>\n",
              "    <tr>\n",
              "      <th>2</th>\n",
              "      <td>One of the shades don't fit well</td>\n",
              "    </tr>\n",
              "    <tr>\n",
              "      <th>3</th>\n",
              "      <td>Very comfortable</td>\n",
              "    </tr>\n",
              "    <tr>\n",
              "      <th>4</th>\n",
              "      <td>Fast delivery. Product expiry is on Dec 2022. ...</td>\n",
              "    </tr>\n",
              "    <tr>\n",
              "      <th>5</th>\n",
              "      <td>it's sooooo cute! i like playing with the glit...</td>\n",
              "    </tr>\n",
              "  </tbody>\n",
              "</table>\n",
              "</div>"
            ],
            "text/plain": [
              "                                                    messages\n",
              "review_id                                                   \n",
              "1          Great danger, cool, motif and cantik2 jg model...\n",
              "2                           One of the shades don't fit well\n",
              "3                                           Very comfortable\n",
              "4          Fast delivery. Product expiry is on Dec 2022. ...\n",
              "5          it's sooooo cute! i like playing with the glit..."
            ]
          },
          "metadata": {
            "tags": []
          },
          "execution_count": 35
        }
      ]
    },
    {
      "cell_type": "code",
      "metadata": {
        "id": "-4H116V_jv-h"
      },
      "source": [
        "#Buat pipeline untuk melakukan prediksi terhadap test dataset\n",
        "from sklearn.pipeline import Pipeline\n",
        "from sklearn.feature_extraction.text import TfidfTransformer\n",
        "from sklearn.feature_extraction.text import CountVectorizer\n",
        "pipeline = Pipeline([\n",
        "    ('tfidf', TfidfTransformer()),\n",
        "    ('classifier', MultinomialNB())\n",
        "])"
      ],
      "execution_count": 65,
      "outputs": []
    },
    {
      "cell_type": "code",
      "metadata": {
        "colab": {
          "base_uri": "https://localhost:8080/"
        },
        "id": "RlZS6pY0kaMx",
        "outputId": "bd894ca1-ed61-47dc-dbb5-c15fccce10bb"
      },
      "source": [
        "#HANYA PERCOBAAN UNTUK MEMASTIKAN MODEL BEKERJA VIA PIPELINE\n",
        "pipeline.fit(X_train, y_train)"
      ],
      "execution_count": 66,
      "outputs": [
        {
          "output_type": "execute_result",
          "data": {
            "text/plain": [
              "Pipeline(memory=None,\n",
              "         steps=[('tfidf',\n",
              "                 TfidfTransformer(norm='l2', smooth_idf=True,\n",
              "                                  sublinear_tf=False, use_idf=True)),\n",
              "                ('classifier',\n",
              "                 MultinomialNB(alpha=1.0, class_prior=None, fit_prior=True))],\n",
              "         verbose=False)"
            ]
          },
          "metadata": {
            "tags": []
          },
          "execution_count": 66
        }
      ]
    },
    {
      "cell_type": "code",
      "metadata": {
        "id": "78v6ig35afRi"
      },
      "source": [
        "#HANYA PERCOBAAN UNTUK MEMASTIKAN MODEL BEKERJA VIA PIPELINE\n",
        "\n",
        "pred_rate = pipeline.predict(X_test)"
      ],
      "execution_count": 67,
      "outputs": []
    },
    {
      "cell_type": "code",
      "metadata": {
        "colab": {
          "base_uri": "https://localhost:8080/"
        },
        "id": "383iwIDEbLqS",
        "outputId": "20f9dcd6-8ac8-48be-d06d-9d5604cb595b"
      },
      "source": [
        "#HANYA PERCOBAAN UNTUK MEMASTIKAN MODEL BEKERJA VIA PIPELINE\n",
        "\n",
        "from sklearn.metrics import classification_report\n",
        "\n",
        "print(classification_report(y_test,pred_rate))"
      ],
      "execution_count": 68,
      "outputs": [
        {
          "output_type": "stream",
          "text": [
            "              precision    recall  f1-score   support\n",
            "\n",
            "           0       0.63      0.78      0.70      4000\n",
            "           1       0.59      0.62      0.61      4000\n",
            "           2       0.55      0.49      0.52      4000\n",
            "           3       0.48      0.46      0.47      4000\n",
            "           4       0.47      0.41      0.44      4000\n",
            "\n",
            "    accuracy                           0.55     20000\n",
            "   macro avg       0.54      0.55      0.55     20000\n",
            "weighted avg       0.54      0.55      0.55     20000\n",
            "\n"
          ],
          "name": "stdout"
        }
      ]
    },
    {
      "cell_type": "code",
      "metadata": {
        "id": "USzNR-6UdsvD"
      },
      "source": [
        "#Ubah seluruh isi kolom 'messages' menjadi vektor agar bisa dilakukan prediksi oleh model\n",
        "vector_msg = vectorizer.transform(df_test_final['messages'])"
      ],
      "execution_count": 70,
      "outputs": []
    },
    {
      "cell_type": "code",
      "metadata": {
        "id": "l9d-ahg2bRP6"
      },
      "source": [
        "prediction = pipeline.predict(vector_msg)"
      ],
      "execution_count": 71,
      "outputs": []
    },
    {
      "cell_type": "code",
      "metadata": {
        "colab": {
          "base_uri": "https://localhost:8080/",
          "height": 431
        },
        "id": "9pcvh44fbkZg",
        "outputId": "5c433df7-64ea-41d9-e84b-d40b87e9fb6f"
      },
      "source": [
        "#Masukkan hasil prediksi kedalam test dataset dengan nama kolom 'rating'\n",
        "df_test_final['Rating'] = prediction\n",
        "df_test_final"
      ],
      "execution_count": 72,
      "outputs": [
        {
          "output_type": "execute_result",
          "data": {
            "text/html": [
              "<div>\n",
              "<style scoped>\n",
              "    .dataframe tbody tr th:only-of-type {\n",
              "        vertical-align: middle;\n",
              "    }\n",
              "\n",
              "    .dataframe tbody tr th {\n",
              "        vertical-align: top;\n",
              "    }\n",
              "\n",
              "    .dataframe thead th {\n",
              "        text-align: right;\n",
              "    }\n",
              "</style>\n",
              "<table border=\"1\" class=\"dataframe\">\n",
              "  <thead>\n",
              "    <tr style=\"text-align: right;\">\n",
              "      <th></th>\n",
              "      <th>messages</th>\n",
              "      <th>Rating</th>\n",
              "    </tr>\n",
              "    <tr>\n",
              "      <th>review_id</th>\n",
              "      <th></th>\n",
              "      <th></th>\n",
              "    </tr>\n",
              "  </thead>\n",
              "  <tbody>\n",
              "    <tr>\n",
              "      <th>1</th>\n",
              "      <td>Great danger, cool, motif and cantik2 jg model...</td>\n",
              "      <td>1</td>\n",
              "    </tr>\n",
              "    <tr>\n",
              "      <th>2</th>\n",
              "      <td>One of the shades don't fit well</td>\n",
              "      <td>0</td>\n",
              "    </tr>\n",
              "    <tr>\n",
              "      <th>3</th>\n",
              "      <td>Very comfortable</td>\n",
              "      <td>4</td>\n",
              "    </tr>\n",
              "    <tr>\n",
              "      <th>4</th>\n",
              "      <td>Fast delivery. Product expiry is on Dec 2022. ...</td>\n",
              "      <td>0</td>\n",
              "    </tr>\n",
              "    <tr>\n",
              "      <th>5</th>\n",
              "      <td>it's sooooo cute! i like playing with the glit...</td>\n",
              "      <td>1</td>\n",
              "    </tr>\n",
              "    <tr>\n",
              "      <th>...</th>\n",
              "      <td>...</td>\n",
              "      <td>...</td>\n",
              "    </tr>\n",
              "    <tr>\n",
              "      <th>60423</th>\n",
              "      <td>Product has been succesfully ordered and shipp...</td>\n",
              "      <td>3</td>\n",
              "    </tr>\n",
              "    <tr>\n",
              "      <th>60424</th>\n",
              "      <td>Opening time a little scared. Fear dalemnya de...</td>\n",
              "      <td>0</td>\n",
              "    </tr>\n",
              "    <tr>\n",
              "      <th>60425</th>\n",
              "      <td>The product quality is excellent. The origina...</td>\n",
              "      <td>3</td>\n",
              "    </tr>\n",
              "    <tr>\n",
              "      <th>60426</th>\n",
              "      <td>They 're holding up REALLY well also .</td>\n",
              "      <td>1</td>\n",
              "    </tr>\n",
              "    <tr>\n",
              "      <th>60427</th>\n",
              "      <td>Rapid response and detail ...\\nThanks gan, the...</td>\n",
              "      <td>4</td>\n",
              "    </tr>\n",
              "  </tbody>\n",
              "</table>\n",
              "<p>60427 rows × 2 columns</p>\n",
              "</div>"
            ],
            "text/plain": [
              "                                                    messages  Rating\n",
              "review_id                                                           \n",
              "1          Great danger, cool, motif and cantik2 jg model...       1\n",
              "2                           One of the shades don't fit well       0\n",
              "3                                           Very comfortable       4\n",
              "4          Fast delivery. Product expiry is on Dec 2022. ...       0\n",
              "5          it's sooooo cute! i like playing with the glit...       1\n",
              "...                                                      ...     ...\n",
              "60423      Product has been succesfully ordered and shipp...       3\n",
              "60424      Opening time a little scared. Fear dalemnya de...       0\n",
              "60425       The product quality is excellent. The origina...       3\n",
              "60426                 They 're holding up REALLY well also .       1\n",
              "60427      Rapid response and detail ...\\nThanks gan, the...       4\n",
              "\n",
              "[60427 rows x 2 columns]"
            ]
          },
          "metadata": {
            "tags": []
          },
          "execution_count": 72
        }
      ]
    },
    {
      "cell_type": "code",
      "metadata": {
        "colab": {
          "base_uri": "https://localhost:8080/",
          "height": 225
        },
        "id": "UT_JhFlXcUyb",
        "outputId": "12483fbe-ef74-4ead-f79e-43b24b076d6b"
      },
      "source": [
        "#Hapus kolom 'messages' agar di test dataset yang tersisa hanya kolom 'review_id' dan 'Rating'\n",
        "df_test_final = df_test_final.drop(columns = 'messages')\n",
        "df_test_final.head()"
      ],
      "execution_count": 73,
      "outputs": [
        {
          "output_type": "execute_result",
          "data": {
            "text/html": [
              "<div>\n",
              "<style scoped>\n",
              "    .dataframe tbody tr th:only-of-type {\n",
              "        vertical-align: middle;\n",
              "    }\n",
              "\n",
              "    .dataframe tbody tr th {\n",
              "        vertical-align: top;\n",
              "    }\n",
              "\n",
              "    .dataframe thead th {\n",
              "        text-align: right;\n",
              "    }\n",
              "</style>\n",
              "<table border=\"1\" class=\"dataframe\">\n",
              "  <thead>\n",
              "    <tr style=\"text-align: right;\">\n",
              "      <th></th>\n",
              "      <th>Rating</th>\n",
              "    </tr>\n",
              "    <tr>\n",
              "      <th>review_id</th>\n",
              "      <th></th>\n",
              "    </tr>\n",
              "  </thead>\n",
              "  <tbody>\n",
              "    <tr>\n",
              "      <th>1</th>\n",
              "      <td>1</td>\n",
              "    </tr>\n",
              "    <tr>\n",
              "      <th>2</th>\n",
              "      <td>0</td>\n",
              "    </tr>\n",
              "    <tr>\n",
              "      <th>3</th>\n",
              "      <td>4</td>\n",
              "    </tr>\n",
              "    <tr>\n",
              "      <th>4</th>\n",
              "      <td>0</td>\n",
              "    </tr>\n",
              "    <tr>\n",
              "      <th>5</th>\n",
              "      <td>1</td>\n",
              "    </tr>\n",
              "  </tbody>\n",
              "</table>\n",
              "</div>"
            ],
            "text/plain": [
              "           Rating\n",
              "review_id        \n",
              "1               1\n",
              "2               0\n",
              "3               4\n",
              "4               0\n",
              "5               1"
            ]
          },
          "metadata": {
            "tags": []
          },
          "execution_count": 73
        }
      ]
    },
    {
      "cell_type": "code",
      "metadata": {
        "id": "rzVmI8i5i5pZ"
      },
      "source": [
        "#Ubah nilai label menjadi nilai semula\n",
        "rating_mapper_decode = {0: 1,\n",
        "                        1: 2,\n",
        "                        2: 3,\n",
        "                        3: 4,\n",
        "                        4: 5}\n",
        "\n",
        "df_test_final['Rating'] = df_test_final['Rating'].map(rating_mapper_decode)\n"
      ],
      "execution_count": 74,
      "outputs": []
    },
    {
      "cell_type": "code",
      "metadata": {
        "colab": {
          "base_uri": "https://localhost:8080/",
          "height": 225
        },
        "id": "BA_7br0cjHei",
        "outputId": "ce53f9a9-5394-4670-d78a-68c7606cbc28"
      },
      "source": [
        "df_test_final.head()"
      ],
      "execution_count": 75,
      "outputs": [
        {
          "output_type": "execute_result",
          "data": {
            "text/html": [
              "<div>\n",
              "<style scoped>\n",
              "    .dataframe tbody tr th:only-of-type {\n",
              "        vertical-align: middle;\n",
              "    }\n",
              "\n",
              "    .dataframe tbody tr th {\n",
              "        vertical-align: top;\n",
              "    }\n",
              "\n",
              "    .dataframe thead th {\n",
              "        text-align: right;\n",
              "    }\n",
              "</style>\n",
              "<table border=\"1\" class=\"dataframe\">\n",
              "  <thead>\n",
              "    <tr style=\"text-align: right;\">\n",
              "      <th></th>\n",
              "      <th>Rating</th>\n",
              "    </tr>\n",
              "    <tr>\n",
              "      <th>review_id</th>\n",
              "      <th></th>\n",
              "    </tr>\n",
              "  </thead>\n",
              "  <tbody>\n",
              "    <tr>\n",
              "      <th>1</th>\n",
              "      <td>2</td>\n",
              "    </tr>\n",
              "    <tr>\n",
              "      <th>2</th>\n",
              "      <td>1</td>\n",
              "    </tr>\n",
              "    <tr>\n",
              "      <th>3</th>\n",
              "      <td>5</td>\n",
              "    </tr>\n",
              "    <tr>\n",
              "      <th>4</th>\n",
              "      <td>1</td>\n",
              "    </tr>\n",
              "    <tr>\n",
              "      <th>5</th>\n",
              "      <td>2</td>\n",
              "    </tr>\n",
              "  </tbody>\n",
              "</table>\n",
              "</div>"
            ],
            "text/plain": [
              "           Rating\n",
              "review_id        \n",
              "1               2\n",
              "2               1\n",
              "3               5\n",
              "4               1\n",
              "5               2"
            ]
          },
          "metadata": {
            "tags": []
          },
          "execution_count": 75
        }
      ]
    },
    {
      "cell_type": "code",
      "metadata": {
        "colab": {
          "base_uri": "https://localhost:8080/",
          "height": 402
        },
        "id": "n7w-jVWtjiG4",
        "outputId": "23f28058-0c49-427d-a0a6-bc6ebea116fc"
      },
      "source": [
        "df_test_final.reset_index(level=0, inplace=True)\n",
        "df_test_final"
      ],
      "execution_count": 85,
      "outputs": [
        {
          "output_type": "execute_result",
          "data": {
            "text/html": [
              "<div>\n",
              "<style scoped>\n",
              "    .dataframe tbody tr th:only-of-type {\n",
              "        vertical-align: middle;\n",
              "    }\n",
              "\n",
              "    .dataframe tbody tr th {\n",
              "        vertical-align: top;\n",
              "    }\n",
              "\n",
              "    .dataframe thead th {\n",
              "        text-align: right;\n",
              "    }\n",
              "</style>\n",
              "<table border=\"1\" class=\"dataframe\">\n",
              "  <thead>\n",
              "    <tr style=\"text-align: right;\">\n",
              "      <th></th>\n",
              "      <th>index</th>\n",
              "      <th>review_id</th>\n",
              "      <th>Rating</th>\n",
              "    </tr>\n",
              "  </thead>\n",
              "  <tbody>\n",
              "    <tr>\n",
              "      <th>0</th>\n",
              "      <td>0</td>\n",
              "      <td>1</td>\n",
              "      <td>2</td>\n",
              "    </tr>\n",
              "    <tr>\n",
              "      <th>1</th>\n",
              "      <td>1</td>\n",
              "      <td>2</td>\n",
              "      <td>1</td>\n",
              "    </tr>\n",
              "    <tr>\n",
              "      <th>2</th>\n",
              "      <td>2</td>\n",
              "      <td>3</td>\n",
              "      <td>5</td>\n",
              "    </tr>\n",
              "    <tr>\n",
              "      <th>3</th>\n",
              "      <td>3</td>\n",
              "      <td>4</td>\n",
              "      <td>1</td>\n",
              "    </tr>\n",
              "    <tr>\n",
              "      <th>4</th>\n",
              "      <td>4</td>\n",
              "      <td>5</td>\n",
              "      <td>2</td>\n",
              "    </tr>\n",
              "    <tr>\n",
              "      <th>...</th>\n",
              "      <td>...</td>\n",
              "      <td>...</td>\n",
              "      <td>...</td>\n",
              "    </tr>\n",
              "    <tr>\n",
              "      <th>60422</th>\n",
              "      <td>60422</td>\n",
              "      <td>60423</td>\n",
              "      <td>4</td>\n",
              "    </tr>\n",
              "    <tr>\n",
              "      <th>60423</th>\n",
              "      <td>60423</td>\n",
              "      <td>60424</td>\n",
              "      <td>1</td>\n",
              "    </tr>\n",
              "    <tr>\n",
              "      <th>60424</th>\n",
              "      <td>60424</td>\n",
              "      <td>60425</td>\n",
              "      <td>4</td>\n",
              "    </tr>\n",
              "    <tr>\n",
              "      <th>60425</th>\n",
              "      <td>60425</td>\n",
              "      <td>60426</td>\n",
              "      <td>2</td>\n",
              "    </tr>\n",
              "    <tr>\n",
              "      <th>60426</th>\n",
              "      <td>60426</td>\n",
              "      <td>60427</td>\n",
              "      <td>5</td>\n",
              "    </tr>\n",
              "  </tbody>\n",
              "</table>\n",
              "<p>60427 rows × 3 columns</p>\n",
              "</div>"
            ],
            "text/plain": [
              "       index  review_id  Rating\n",
              "0          0          1       2\n",
              "1          1          2       1\n",
              "2          2          3       5\n",
              "3          3          4       1\n",
              "4          4          5       2\n",
              "...      ...        ...     ...\n",
              "60422  60422      60423       4\n",
              "60423  60423      60424       1\n",
              "60424  60424      60425       4\n",
              "60425  60425      60426       2\n",
              "60426  60426      60427       5\n",
              "\n",
              "[60427 rows x 3 columns]"
            ]
          },
          "metadata": {
            "tags": []
          },
          "execution_count": 85
        }
      ]
    },
    {
      "cell_type": "code",
      "metadata": {
        "colab": {
          "base_uri": "https://localhost:8080/"
        },
        "id": "baqpGyGpl0F3",
        "outputId": "0a5f9281-9e80-48bb-a3d5-634c14ff0a08"
      },
      "source": [
        "df_test_final = df_test_final.drop(columns=['index'])\n",
        "df_test_final.shape"
      ],
      "execution_count": 86,
      "outputs": [
        {
          "output_type": "execute_result",
          "data": {
            "text/plain": [
              "(60427, 2)"
            ]
          },
          "metadata": {
            "tags": []
          },
          "execution_count": 86
        }
      ]
    },
    {
      "cell_type": "code",
      "metadata": {
        "colab": {
          "base_uri": "https://localhost:8080/",
          "height": 402
        },
        "id": "IKQnCDbBmHdM",
        "outputId": "31a7895f-48c5-4fec-9c83-95b404326b08"
      },
      "source": [
        "df_test_final"
      ],
      "execution_count": 87,
      "outputs": [
        {
          "output_type": "execute_result",
          "data": {
            "text/html": [
              "<div>\n",
              "<style scoped>\n",
              "    .dataframe tbody tr th:only-of-type {\n",
              "        vertical-align: middle;\n",
              "    }\n",
              "\n",
              "    .dataframe tbody tr th {\n",
              "        vertical-align: top;\n",
              "    }\n",
              "\n",
              "    .dataframe thead th {\n",
              "        text-align: right;\n",
              "    }\n",
              "</style>\n",
              "<table border=\"1\" class=\"dataframe\">\n",
              "  <thead>\n",
              "    <tr style=\"text-align: right;\">\n",
              "      <th></th>\n",
              "      <th>review_id</th>\n",
              "      <th>Rating</th>\n",
              "    </tr>\n",
              "  </thead>\n",
              "  <tbody>\n",
              "    <tr>\n",
              "      <th>0</th>\n",
              "      <td>1</td>\n",
              "      <td>2</td>\n",
              "    </tr>\n",
              "    <tr>\n",
              "      <th>1</th>\n",
              "      <td>2</td>\n",
              "      <td>1</td>\n",
              "    </tr>\n",
              "    <tr>\n",
              "      <th>2</th>\n",
              "      <td>3</td>\n",
              "      <td>5</td>\n",
              "    </tr>\n",
              "    <tr>\n",
              "      <th>3</th>\n",
              "      <td>4</td>\n",
              "      <td>1</td>\n",
              "    </tr>\n",
              "    <tr>\n",
              "      <th>4</th>\n",
              "      <td>5</td>\n",
              "      <td>2</td>\n",
              "    </tr>\n",
              "    <tr>\n",
              "      <th>...</th>\n",
              "      <td>...</td>\n",
              "      <td>...</td>\n",
              "    </tr>\n",
              "    <tr>\n",
              "      <th>60422</th>\n",
              "      <td>60423</td>\n",
              "      <td>4</td>\n",
              "    </tr>\n",
              "    <tr>\n",
              "      <th>60423</th>\n",
              "      <td>60424</td>\n",
              "      <td>1</td>\n",
              "    </tr>\n",
              "    <tr>\n",
              "      <th>60424</th>\n",
              "      <td>60425</td>\n",
              "      <td>4</td>\n",
              "    </tr>\n",
              "    <tr>\n",
              "      <th>60425</th>\n",
              "      <td>60426</td>\n",
              "      <td>2</td>\n",
              "    </tr>\n",
              "    <tr>\n",
              "      <th>60426</th>\n",
              "      <td>60427</td>\n",
              "      <td>5</td>\n",
              "    </tr>\n",
              "  </tbody>\n",
              "</table>\n",
              "<p>60427 rows × 2 columns</p>\n",
              "</div>"
            ],
            "text/plain": [
              "       review_id  Rating\n",
              "0              1       2\n",
              "1              2       1\n",
              "2              3       5\n",
              "3              4       1\n",
              "4              5       2\n",
              "...          ...     ...\n",
              "60422      60423       4\n",
              "60423      60424       1\n",
              "60424      60425       4\n",
              "60425      60426       2\n",
              "60426      60427       5\n",
              "\n",
              "[60427 rows x 2 columns]"
            ]
          },
          "metadata": {
            "tags": []
          },
          "execution_count": 87
        }
      ]
    },
    {
      "cell_type": "markdown",
      "metadata": {
        "id": "_XAlBs4uh6_v"
      },
      "source": [
        "# **6.  *Tambahan (Jika ingin Menggunakan Algoritma Lain)***"
      ]
    },
    {
      "cell_type": "code",
      "metadata": {
        "id": "BTXg75O230Ts"
      },
      "source": [
        "from sklearn import svm\n",
        "from sklearn.model_selection import cross_val_score\n",
        "\n",
        "clf = svm.SVC(kernel = 'linear')"
      ],
      "execution_count": 53,
      "outputs": []
    },
    {
      "cell_type": "code",
      "metadata": {
        "id": "tos-Jgk74Guy"
      },
      "source": [
        "#lakukan prediksi dataset\n",
        "clf.fit(X_train,y_train)\n",
        "predict = clf.predict(X_test)"
      ],
      "execution_count": 54,
      "outputs": []
    },
    {
      "cell_type": "code",
      "metadata": {
        "id": "Kmhue0hy4PXD"
      },
      "source": [
        "#import library untuk evaluasi model\n",
        "from sklearn.metrics import accuracy_score"
      ],
      "execution_count": 65,
      "outputs": []
    },
    {
      "cell_type": "code",
      "metadata": {
        "colab": {
          "base_uri": "https://localhost:8080/"
        },
        "id": "IT2UvjhCRJNM",
        "outputId": "2daf5731-61c5-47d9-82f7-1d2d99195b3a"
      },
      "source": [
        "# f1_score\n",
        "#print(\"f1 score hasil prediksi adalah: \")\n",
        "#print(f1_score(y_test, predict))\n",
        "\n",
        "# accuracy score\n",
        "print(\"accuracy score hasil prediksi adalah: \")\n",
        "print(accuracy_score(y_test, predict))\n",
        "\n",
        "# precision score\n",
        "#print(\"precision score hasil prediksi adalah: \")\n",
        "#print(precision_score(y_test, predict))\n",
        "\n",
        "# recall score\n",
        "#print(\"recall score hasil prediksi adalah: \")\n",
        "#print(recall_score(y_test, predict))"
      ],
      "execution_count": 59,
      "outputs": [
        {
          "output_type": "stream",
          "text": [
            "accuracy score hasil prediksi adalah: \n",
            "0.58105\n"
          ],
          "name": "stdout"
        }
      ]
    },
    {
      "cell_type": "code",
      "metadata": {
        "id": "N4sS7tJOUvnw"
      },
      "source": [
        "review_positif = 'kualitasnya oke banget, emang keren deh toko ini'\n",
        "review_negatif = 'responnya lambat banget, jangan belanja di toko ini deh'"
      ],
      "execution_count": 60,
      "outputs": []
    },
    {
      "cell_type": "code",
      "metadata": {
        "colab": {
          "base_uri": "https://localhost:8080/"
        },
        "id": "LUXVcgSGVCg3",
        "outputId": "9f1367cf-5347-4ddb-ac6d-d89bf74bff41"
      },
      "source": [
        "print(clf.predict(preprocess_data(review_positif)))\n",
        "print(clf.predict(preprocess_data(review_negatif)))"
      ],
      "execution_count": 62,
      "outputs": [
        {
          "output_type": "stream",
          "text": [
            "[4]\n",
            "[2]\n"
          ],
          "name": "stdout"
        }
      ]
    },
    {
      "cell_type": "code",
      "metadata": {
        "colab": {
          "base_uri": "https://localhost:8080/"
        },
        "id": "xEnFXUU4yoaP",
        "outputId": "824fe95f-4743-43ad-9939-bba553f355f9"
      },
      "source": [
        "from sklearn.naive_bayes import BernoulliNB\n",
        "BNB = BernoulliNB()\n",
        "BNB.fit(X_train, y_train)\n",
        "accuracy_score_bnb = metrics.accuracy_score(BNB.predict(X_test),y_test)\n",
        "print('Accuracy Score BNB = ' +str('{:4.2f}'.format(accuracy_score_bnb*100))+'%')"
      ],
      "execution_count": 27,
      "outputs": [
        {
          "output_type": "stream",
          "text": [
            "Accuracy Score BNB = 48.52%\n"
          ],
          "name": "stdout"
        }
      ]
    },
    {
      "cell_type": "code",
      "metadata": {
        "colab": {
          "base_uri": "https://localhost:8080/"
        },
        "id": "Vd2nzdgAypmY",
        "outputId": "651710df-36c2-41ff-9cc2-6c2a122c156d"
      },
      "source": [
        "from sklearn.linear_model import SGDClassifier\n",
        "sgdc = SGDClassifier()\n",
        "sgdc.fit(X_train, y_train)\n",
        "train_score = sgdc.score(X_train, y_train)\n",
        "valid_score = sgdc.score(X_test, y_test)\n",
        "print(f'Train score: {round(train_score, 2)} ; Validation score: {round(valid_score, 2)}\\n')\n"
      ],
      "execution_count": 28,
      "outputs": [
        {
          "output_type": "stream",
          "text": [
            "Train score: 0.63 ; Validation score: 0.53\n",
            "\n"
          ],
          "name": "stdout"
        }
      ]
    },
    {
      "cell_type": "code",
      "metadata": {
        "id": "hlAVcu18eRDD"
      },
      "source": [
        ""
      ],
      "execution_count": null,
      "outputs": []
    }
  ]
}